{
  "nbformat": 4,
  "nbformat_minor": 0,
  "metadata": {
    "colab": {
      "name": "PIAIC-Q2-DL - Assignment - Concrete Strength (Completed).ipnyb",
      "provenance": [],
      "collapsed_sections": []
    },
    "kernelspec": {
      "name": "python3",
      "display_name": "Python 3"
    },
    "language_info": {
      "name": "python"
    }
  },
  "cells": [
    {
      "cell_type": "markdown",
      "metadata": {
        "id": "UPfpESLvivd8"
      },
      "source": [
        "# Assignment: Compresive Strength Concrete Problem\n",
        "\n",
        "\n",
        "### Abstract: \n",
        "\n",
        "Concrete is the most important material in civil engineering. The concrete compressive strength (concrete strength to bear the load) is a highly nonlinear function of age and ingredients.  <br><br>\n",
        "\n",
        "<table border=\"1\"  cellpadding=\"6\" bordercolor=\"red\">\n",
        "\t<tbody>\n",
        "        <tr>\n",
        "\t\t<td bgcolor=\"#DDEEFF\"><p class=\"normal\"><b>Data Set Characteristics:&nbsp;&nbsp;</b></p></td>\n",
        "\t\t<td><p class=\"normal\">Multivariate</p></td>\n",
        "\t\t<td bgcolor=\"#DDEEFF\"><p class=\"normal\"><b>Number of Instances:</b></p></td>\n",
        "\t\t<td><p class=\"normal\">1030</p></td>\n",
        "\t\t<td bgcolor=\"#DDEEFF\"><p class=\"normal\"><b>Area:</b></p></td>\n",
        "\t\t<td><p class=\"normal\">Physical</p></td>\n",
        "        </tr>\n",
        "     </tbody>\n",
        "    </table>\n",
        "<table border=\"1\" cellpadding=\"6\">\n",
        "    <tbody>\n",
        "        <tr>\n",
        "            <td bgcolor=\"#DDEEFF\"><p class=\"normal\"><b>Attribute Characteristics:</b></p></td>\n",
        "            <td><p class=\"normal\">Real</p></td>\n",
        "            <td bgcolor=\"#DDEEFF\"><p class=\"normal\"><b>Number of Attributes:</b></p></td>\n",
        "            <td><p class=\"normal\">9</p></td>\n",
        "            <td bgcolor=\"#DDEEFF\"><p class=\"normal\"><b>Date Donated</b></p></td>\n",
        "            <td><p class=\"normal\">2007-08-03</p></td>\n",
        "        </tr>\n",
        "     </tbody>\n",
        "    </table>\n",
        "<table border=\"1\" cellpadding=\"6\">\t\n",
        "    <tbody>\n",
        "    <tr>\n",
        "\t\t<td bgcolor=\"#DDEEFF\"><p class=\"normal\"><b>Associated Tasks:</b></p></td>\n",
        "\t\t<td><p class=\"normal\">Regression</p></td>\n",
        "\t\t<td bgcolor=\"#DDEEFF\"><p class=\"normal\"><b>Missing Values?</b></p></td>\n",
        "\t\t<td><p class=\"normal\">N/A</p></td>\n",
        "\t\t<td bgcolor=\"#DDEEFF\"><p class=\"normal\"><b>Number of Web Hits:</b></p></td>\n",
        "\t\t<td><p class=\"normal\">231464</p></td>\n",
        "\t</tr>\n",
        "    </tbody>\n",
        "    </table>"
      ]
    },
    {
      "cell_type": "markdown",
      "metadata": {
        "id": "9tLYTNzriveD"
      },
      "source": [
        "###  Description:\n",
        "| Features Name | Data Type | Measurement | Description |\n",
        "| -- | -- | -- | -- |\n",
        "Cement (component 1) | quantitative | kg in a m3 mixture | Input Variable\n",
        "Blast Furnace Slag (component 2) | quantitative | kg in a m3 mixture | Input Variable\n",
        "Fly Ash (component 3) | quantitative | kg in a m3 mixture | Input Variable\n",
        "Water (component 4) | quantitative | kg in a m3 mixture | Input Variable\n",
        "Superplasticizer (component 5) | quantitative | kg in a m3 mixture | Input Variable\n",
        "Coarse Aggregate (component 6) | quantitative | kg in a m3 mixture | Input Variable\n",
        "Fine Aggregate (component 7) | quantitative | kg in a m3 mixture | Input Variable\n",
        "Age | quantitative | Day (1~365) | Input Variable\n",
        "Concrete compressive strength | quantitative | MPa | Output Variable\n",
        "\n",
        "### WORKFLOW :\n",
        "- Load Data\n",
        "- Check Missing Values ( If Exist ; Fill each record with mean of its feature )\n",
        "- Standardized the Input Variables. **Hint**: Centeralized the data\n",
        "- Split into 50% Training(Samples,Labels) , 30% Test(Samples,Labels) and 20% Validation Data(Samples,Labels).\n",
        "- Model : input Layer (No. of features ), 3 hidden layers including 10,8,6 unit & Output Layer with activation function relu/tanh (check by experiment).\n",
        "- Compilation Step (Note : Its a Regression problem , select loss , metrics according to it)\n",
        "- Train the Model with Epochs (100) and validate it\n",
        "- If the model gets overfit tune your model by changing the units , No. of layers , activation function , epochs , add dropout layer or add Regularizer according to the need .\n",
        "- Evaluation Step\n",
        "- Prediction\n"
      ]
    },
    {
      "cell_type": "markdown",
      "metadata": {
        "id": "JsZtVHQjiveF"
      },
      "source": [
        "# Load Data:\n",
        "[Click Here to Download DataSet](https://github.com/ramsha275/ML_Datasets/blob/main/compresive_strength_concrete.csv)"
      ]
    },
    {
      "cell_type": "code",
      "metadata": {
        "id": "AVR07kO4wJVh"
      },
      "source": [
        "import pandas as pd\n",
        "import numpy as np\n",
        "from tensorflow.keras import layers, models, regularizers\n",
        "import matplotlib.pyplot as plt"
      ],
      "execution_count": null,
      "outputs": []
    },
    {
      "cell_type": "code",
      "metadata": {
        "id": "-zuBv-rPwQeR"
      },
      "source": [
        "link = \"https://raw.githubusercontent.com/ramsha275/ML_Datasets/main/compresive_strength_concrete.csv\""
      ],
      "execution_count": null,
      "outputs": []
    },
    {
      "cell_type": "code",
      "metadata": {
        "id": "apgoZbVBwdUA",
        "colab": {
          "base_uri": "https://localhost:8080/",
          "height": 470
        },
        "outputId": "0fd48944-b54b-4c0e-f45c-e78cb82c4bbe"
      },
      "source": [
        "ds = pd.read_csv(link)\n",
        "ds"
      ],
      "execution_count": null,
      "outputs": [
        {
          "output_type": "execute_result",
          "data": {
            "text/html": [
              "<div>\n",
              "<style scoped>\n",
              "    .dataframe tbody tr th:only-of-type {\n",
              "        vertical-align: middle;\n",
              "    }\n",
              "\n",
              "    .dataframe tbody tr th {\n",
              "        vertical-align: top;\n",
              "    }\n",
              "\n",
              "    .dataframe thead th {\n",
              "        text-align: right;\n",
              "    }\n",
              "</style>\n",
              "<table border=\"1\" class=\"dataframe\">\n",
              "  <thead>\n",
              "    <tr style=\"text-align: right;\">\n",
              "      <th></th>\n",
              "      <th>Cement (component 1)(kg in a m^3 mixture)</th>\n",
              "      <th>Blast Furnace Slag (component 2)(kg in a m^3 mixture)</th>\n",
              "      <th>Fly Ash (component 3)(kg in a m^3 mixture)</th>\n",
              "      <th>Water  (component 4)(kg in a m^3 mixture)</th>\n",
              "      <th>Superplasticizer (component 5)(kg in a m^3 mixture)</th>\n",
              "      <th>Coarse Aggregate  (component 6)(kg in a m^3 mixture)</th>\n",
              "      <th>Fine Aggregate (component 7)(kg in a m^3 mixture)</th>\n",
              "      <th>Age (day)</th>\n",
              "      <th>Concrete compressive strength(MPa, megapascals)</th>\n",
              "    </tr>\n",
              "  </thead>\n",
              "  <tbody>\n",
              "    <tr>\n",
              "      <th>0</th>\n",
              "      <td>540.0</td>\n",
              "      <td>0.0</td>\n",
              "      <td>0.0</td>\n",
              "      <td>162.0</td>\n",
              "      <td>2.5</td>\n",
              "      <td>1040.0</td>\n",
              "      <td>676.0</td>\n",
              "      <td>28</td>\n",
              "      <td>79.99</td>\n",
              "    </tr>\n",
              "    <tr>\n",
              "      <th>1</th>\n",
              "      <td>540.0</td>\n",
              "      <td>0.0</td>\n",
              "      <td>0.0</td>\n",
              "      <td>162.0</td>\n",
              "      <td>2.5</td>\n",
              "      <td>1055.0</td>\n",
              "      <td>676.0</td>\n",
              "      <td>28</td>\n",
              "      <td>61.89</td>\n",
              "    </tr>\n",
              "    <tr>\n",
              "      <th>2</th>\n",
              "      <td>332.5</td>\n",
              "      <td>142.5</td>\n",
              "      <td>0.0</td>\n",
              "      <td>228.0</td>\n",
              "      <td>0.0</td>\n",
              "      <td>932.0</td>\n",
              "      <td>594.0</td>\n",
              "      <td>270</td>\n",
              "      <td>40.27</td>\n",
              "    </tr>\n",
              "    <tr>\n",
              "      <th>3</th>\n",
              "      <td>332.5</td>\n",
              "      <td>142.5</td>\n",
              "      <td>0.0</td>\n",
              "      <td>228.0</td>\n",
              "      <td>0.0</td>\n",
              "      <td>932.0</td>\n",
              "      <td>594.0</td>\n",
              "      <td>365</td>\n",
              "      <td>41.05</td>\n",
              "    </tr>\n",
              "    <tr>\n",
              "      <th>4</th>\n",
              "      <td>198.6</td>\n",
              "      <td>132.4</td>\n",
              "      <td>0.0</td>\n",
              "      <td>192.0</td>\n",
              "      <td>0.0</td>\n",
              "      <td>978.4</td>\n",
              "      <td>825.5</td>\n",
              "      <td>360</td>\n",
              "      <td>44.30</td>\n",
              "    </tr>\n",
              "    <tr>\n",
              "      <th>...</th>\n",
              "      <td>...</td>\n",
              "      <td>...</td>\n",
              "      <td>...</td>\n",
              "      <td>...</td>\n",
              "      <td>...</td>\n",
              "      <td>...</td>\n",
              "      <td>...</td>\n",
              "      <td>...</td>\n",
              "      <td>...</td>\n",
              "    </tr>\n",
              "    <tr>\n",
              "      <th>1025</th>\n",
              "      <td>276.4</td>\n",
              "      <td>116.0</td>\n",
              "      <td>90.3</td>\n",
              "      <td>179.6</td>\n",
              "      <td>8.9</td>\n",
              "      <td>870.1</td>\n",
              "      <td>768.3</td>\n",
              "      <td>28</td>\n",
              "      <td>44.28</td>\n",
              "    </tr>\n",
              "    <tr>\n",
              "      <th>1026</th>\n",
              "      <td>322.2</td>\n",
              "      <td>0.0</td>\n",
              "      <td>115.6</td>\n",
              "      <td>196.0</td>\n",
              "      <td>10.4</td>\n",
              "      <td>817.9</td>\n",
              "      <td>813.4</td>\n",
              "      <td>28</td>\n",
              "      <td>31.18</td>\n",
              "    </tr>\n",
              "    <tr>\n",
              "      <th>1027</th>\n",
              "      <td>148.5</td>\n",
              "      <td>139.4</td>\n",
              "      <td>108.6</td>\n",
              "      <td>192.7</td>\n",
              "      <td>6.1</td>\n",
              "      <td>892.4</td>\n",
              "      <td>780.0</td>\n",
              "      <td>28</td>\n",
              "      <td>23.70</td>\n",
              "    </tr>\n",
              "    <tr>\n",
              "      <th>1028</th>\n",
              "      <td>159.1</td>\n",
              "      <td>186.7</td>\n",
              "      <td>0.0</td>\n",
              "      <td>175.6</td>\n",
              "      <td>11.3</td>\n",
              "      <td>989.6</td>\n",
              "      <td>788.9</td>\n",
              "      <td>28</td>\n",
              "      <td>32.77</td>\n",
              "    </tr>\n",
              "    <tr>\n",
              "      <th>1029</th>\n",
              "      <td>260.9</td>\n",
              "      <td>100.5</td>\n",
              "      <td>78.3</td>\n",
              "      <td>200.6</td>\n",
              "      <td>8.6</td>\n",
              "      <td>864.5</td>\n",
              "      <td>761.5</td>\n",
              "      <td>28</td>\n",
              "      <td>32.40</td>\n",
              "    </tr>\n",
              "  </tbody>\n",
              "</table>\n",
              "<p>1030 rows × 9 columns</p>\n",
              "</div>"
            ],
            "text/plain": [
              "      Cement (component 1)(kg in a m^3 mixture)  ...  Concrete compressive strength(MPa, megapascals) \n",
              "0                                         540.0  ...                                             79.99\n",
              "1                                         540.0  ...                                             61.89\n",
              "2                                         332.5  ...                                             40.27\n",
              "3                                         332.5  ...                                             41.05\n",
              "4                                         198.6  ...                                             44.30\n",
              "...                                         ...  ...                                               ...\n",
              "1025                                      276.4  ...                                             44.28\n",
              "1026                                      322.2  ...                                             31.18\n",
              "1027                                      148.5  ...                                             23.70\n",
              "1028                                      159.1  ...                                             32.77\n",
              "1029                                      260.9  ...                                             32.40\n",
              "\n",
              "[1030 rows x 9 columns]"
            ]
          },
          "metadata": {
            "tags": []
          },
          "execution_count": 78
        }
      ]
    },
    {
      "cell_type": "code",
      "metadata": {
        "colab": {
          "base_uri": "https://localhost:8080/"
        },
        "id": "z6bgvlEJw9Bu",
        "outputId": "2a235480-f663-49ad-af4b-423d38a065e3"
      },
      "source": [
        "ds.isnull().sum()"
      ],
      "execution_count": null,
      "outputs": [
        {
          "output_type": "execute_result",
          "data": {
            "text/plain": [
              "Cement (component 1)(kg in a m^3 mixture)                0\n",
              "Blast Furnace Slag (component 2)(kg in a m^3 mixture)    0\n",
              "Fly Ash (component 3)(kg in a m^3 mixture)               0\n",
              "Water  (component 4)(kg in a m^3 mixture)                0\n",
              "Superplasticizer (component 5)(kg in a m^3 mixture)      0\n",
              "Coarse Aggregate  (component 6)(kg in a m^3 mixture)     0\n",
              "Fine Aggregate (component 7)(kg in a m^3 mixture)        0\n",
              "Age (day)                                                0\n",
              "Concrete compressive strength(MPa, megapascals)          0\n",
              "dtype: int64"
            ]
          },
          "metadata": {
            "tags": []
          },
          "execution_count": 79
        }
      ]
    },
    {
      "cell_type": "code",
      "metadata": {
        "id": "gyzaPx-lyrvl",
        "colab": {
          "base_uri": "https://localhost:8080/"
        },
        "outputId": "d76667d0-c571-4b09-916a-86a5d91856a4"
      },
      "source": [
        "ds = ds.sample(frac=1)\n",
        "print(len(ds))"
      ],
      "execution_count": null,
      "outputs": [
        {
          "output_type": "stream",
          "text": [
            "1030\n"
          ],
          "name": "stdout"
        }
      ]
    },
    {
      "cell_type": "code",
      "metadata": {
        "colab": {
          "base_uri": "https://localhost:8080/",
          "height": 255
        },
        "id": "lA_zWmx-1x2i",
        "outputId": "e05f9846-756d-4612-8921-db795f7803bf"
      },
      "source": [
        "50/ds.head()"
      ],
      "execution_count": null,
      "outputs": [
        {
          "output_type": "execute_result",
          "data": {
            "text/html": [
              "<div>\n",
              "<style scoped>\n",
              "    .dataframe tbody tr th:only-of-type {\n",
              "        vertical-align: middle;\n",
              "    }\n",
              "\n",
              "    .dataframe tbody tr th {\n",
              "        vertical-align: top;\n",
              "    }\n",
              "\n",
              "    .dataframe thead th {\n",
              "        text-align: right;\n",
              "    }\n",
              "</style>\n",
              "<table border=\"1\" class=\"dataframe\">\n",
              "  <thead>\n",
              "    <tr style=\"text-align: right;\">\n",
              "      <th></th>\n",
              "      <th>Cement (component 1)(kg in a m^3 mixture)</th>\n",
              "      <th>Blast Furnace Slag (component 2)(kg in a m^3 mixture)</th>\n",
              "      <th>Fly Ash (component 3)(kg in a m^3 mixture)</th>\n",
              "      <th>Water  (component 4)(kg in a m^3 mixture)</th>\n",
              "      <th>Superplasticizer (component 5)(kg in a m^3 mixture)</th>\n",
              "      <th>Coarse Aggregate  (component 6)(kg in a m^3 mixture)</th>\n",
              "      <th>Fine Aggregate (component 7)(kg in a m^3 mixture)</th>\n",
              "      <th>Age (day)</th>\n",
              "      <th>Concrete compressive strength(MPa, megapascals)</th>\n",
              "    </tr>\n",
              "  </thead>\n",
              "  <tbody>\n",
              "    <tr>\n",
              "      <th>967</th>\n",
              "      <td>0.322997</td>\n",
              "      <td>0.272628</td>\n",
              "      <td>inf</td>\n",
              "      <td>0.258665</td>\n",
              "      <td>5.494505</td>\n",
              "      <td>0.057000</td>\n",
              "      <td>0.057624</td>\n",
              "      <td>1.785714</td>\n",
              "      <td>2.101723</td>\n",
              "    </tr>\n",
              "    <tr>\n",
              "      <th>1020</th>\n",
              "      <td>0.173370</td>\n",
              "      <td>0.413223</td>\n",
              "      <td>inf</td>\n",
              "      <td>0.281849</td>\n",
              "      <td>7.142857</td>\n",
              "      <td>0.055072</td>\n",
              "      <td>0.060277</td>\n",
              "      <td>1.785714</td>\n",
              "      <td>1.186521</td>\n",
              "    </tr>\n",
              "    <tr>\n",
              "      <th>496</th>\n",
              "      <td>0.129199</td>\n",
              "      <td>2.500000</td>\n",
              "      <td>0.531915</td>\n",
              "      <td>0.318471</td>\n",
              "      <td>4.310345</td>\n",
              "      <td>0.053305</td>\n",
              "      <td>0.059172</td>\n",
              "      <td>0.892857</td>\n",
              "      <td>0.813537</td>\n",
              "    </tr>\n",
              "    <tr>\n",
              "      <th>737</th>\n",
              "      <td>0.210084</td>\n",
              "      <td>inf</td>\n",
              "      <td>inf</td>\n",
              "      <td>0.268817</td>\n",
              "      <td>inf</td>\n",
              "      <td>0.044683</td>\n",
              "      <td>0.063371</td>\n",
              "      <td>1.785714</td>\n",
              "      <td>2.850627</td>\n",
              "    </tr>\n",
              "    <tr>\n",
              "      <th>602</th>\n",
              "      <td>0.147493</td>\n",
              "      <td>inf</td>\n",
              "      <td>inf</td>\n",
              "      <td>0.253807</td>\n",
              "      <td>inf</td>\n",
              "      <td>0.051653</td>\n",
              "      <td>0.064020</td>\n",
              "      <td>0.555556</td>\n",
              "      <td>1.421666</td>\n",
              "    </tr>\n",
              "  </tbody>\n",
              "</table>\n",
              "</div>"
            ],
            "text/plain": [
              "      Cement (component 1)(kg in a m^3 mixture)  ...  Concrete compressive strength(MPa, megapascals) \n",
              "967                                    0.322997  ...                                          2.101723\n",
              "1020                                   0.173370  ...                                          1.186521\n",
              "496                                    0.129199  ...                                          0.813537\n",
              "737                                    0.210084  ...                                          2.850627\n",
              "602                                    0.147493  ...                                          1.421666\n",
              "\n",
              "[5 rows x 9 columns]"
            ]
          },
          "metadata": {
            "tags": []
          },
          "execution_count": 81
        }
      ]
    },
    {
      "cell_type": "code",
      "metadata": {
        "colab": {
          "base_uri": "https://localhost:8080/"
        },
        "id": "L3iptFR25lYo",
        "outputId": "c4384969-85b5-4958-cbe8-9778d693f5a6"
      },
      "source": [
        "data = ds.loc[:,ds.columns!=\"Concrete compressive strength(MPa, megapascals) \"]\n",
        "labels = ds.loc[:,ds.columns==\"Concrete compressive strength(MPa, megapascals) \"]\n",
        "print(data)\n",
        "print(\"---------------------------------------------------\")\n",
        "print(labels)"
      ],
      "execution_count": null,
      "outputs": [
        {
          "output_type": "stream",
          "text": [
            "      Cement (component 1)(kg in a m^3 mixture)  ...  Age (day)\n",
            "967                                       154.8  ...         28\n",
            "1020                                      288.4  ...         28\n",
            "496                                       387.0  ...         56\n",
            "737                                       238.0  ...         28\n",
            "602                                       339.0  ...         90\n",
            "...                                         ...  ...        ...\n",
            "258                                       212.5  ...        100\n",
            "421                                       178.0  ...         14\n",
            "298                                       168.9  ...        100\n",
            "189                                       233.8  ...          3\n",
            "477                                       446.0  ...          3\n",
            "\n",
            "[1030 rows x 8 columns]\n",
            "---------------------------------------------------\n",
            "      Concrete compressive strength(MPa, megapascals) \n",
            "967                                              23.79\n",
            "1020                                             42.14\n",
            "496                                              61.46\n",
            "737                                              17.54\n",
            "602                                              35.17\n",
            "...                                                ...\n",
            "258                                              42.92\n",
            "421                                              34.24\n",
            "298                                              48.15\n",
            "189                                              10.38\n",
            "477                                              23.35\n",
            "\n",
            "[1030 rows x 1 columns]\n"
          ],
          "name": "stdout"
        }
      ]
    },
    {
      "cell_type": "code",
      "metadata": {
        "id": "rC-Hfj425ub3"
      },
      "source": [
        "train_data = data[:515]\n",
        "train_labels = labels[:515]\n",
        "val_data = data[515:824]\n",
        "val_labels = labels[515:824]\n",
        "test_data = data[824:]\n",
        "test_labels = labels[824:]"
      ],
      "execution_count": null,
      "outputs": []
    },
    {
      "cell_type": "code",
      "metadata": {
        "id": "-yQpuTf1tHE-"
      },
      "source": [
        "train_data = (train_data - train_data.mean(axis=0)) / train_data.std(axis=0)\n",
        "val_data = (val_data - val_data.mean(axis=0)) / val_data.std(axis=0)\n",
        "test_data = (test_data - test_data.mean(axis=0)) / test_data.std(axis=0)"
      ],
      "execution_count": null,
      "outputs": []
    },
    {
      "cell_type": "code",
      "metadata": {
        "colab": {
          "base_uri": "https://localhost:8080/"
        },
        "id": "VDTgkl1Y5vfe",
        "outputId": "aae381e2-3fdd-4840-8210-43d5f37bb668"
      },
      "source": [
        "print(len(train_data))\n",
        "print(len(train_labels))\n",
        "print(len(test_data))\n",
        "print(len(test_labels))\n",
        "print(len(val_data))\n",
        "print(len(val_labels))\n",
        "print(train_data.shape)"
      ],
      "execution_count": null,
      "outputs": [
        {
          "output_type": "stream",
          "text": [
            "515\n",
            "515\n",
            "206\n",
            "206\n",
            "309\n",
            "309\n",
            "(515, 8)\n"
          ],
          "name": "stdout"
        }
      ]
    },
    {
      "cell_type": "code",
      "metadata": {
        "id": "vB_cgGIm7xCV"
      },
      "source": [
        "network = models.Sequential()\n",
        "network.add(layers.Dense(10, activation=\"relu\", kernel_regularizer=regularizers.l2(.001), input_shape=(train_data.shape[1], )))\n",
        "network.add(layers.Dense(8, activation=\"relu\", kernel_regularizer=regularizers.l2(.001)))\n",
        "network.add(layers.Dense(6, activation=\"relu\", kernel_regularizer=regularizers.l2(.001)))\n",
        "network.add(layers.Dense(1))\n",
        "network.compile(metrics=[\"mae\", \"acc\"], optimizer=\"rmsprop\", loss=\"mse\")"
      ],
      "execution_count": null,
      "outputs": []
    },
    {
      "cell_type": "code",
      "metadata": {
        "colab": {
          "base_uri": "https://localhost:8080/"
        },
        "id": "rq4OTDgT9WMq",
        "outputId": "bf32c963-a16b-4978-a4a6-a193b6d06a67"
      },
      "source": [
        "history = network.fit(train_data, train_labels, epochs=100, batch_size=32, validation_data=(val_data, val_labels))"
      ],
      "execution_count": null,
      "outputs": [
        {
          "output_type": "stream",
          "text": [
            "Epoch 1/100\n",
            "17/17 [==============================] - 1s 18ms/step - loss: 1550.7825 - mae: 35.5711 - acc: 0.0000e+00 - val_loss: 1628.7170 - val_mae: 36.9817 - val_acc: 0.0000e+00\n",
            "Epoch 2/100\n",
            "17/17 [==============================] - 0s 4ms/step - loss: 1502.0137 - mae: 35.1532 - acc: 0.0000e+00 - val_loss: 1610.8123 - val_mae: 36.7490 - val_acc: 0.0000e+00\n",
            "Epoch 3/100\n",
            "17/17 [==============================] - 0s 4ms/step - loss: 1420.9377 - mae: 33.8168 - acc: 0.0000e+00 - val_loss: 1590.3004 - val_mae: 36.4793 - val_acc: 0.0000e+00\n",
            "Epoch 4/100\n",
            "17/17 [==============================] - 0s 4ms/step - loss: 1464.0474 - mae: 34.5058 - acc: 0.0000e+00 - val_loss: 1567.9731 - val_mae: 36.1832 - val_acc: 0.0000e+00\n",
            "Epoch 5/100\n",
            "17/17 [==============================] - 0s 4ms/step - loss: 1350.9267 - mae: 33.0862 - acc: 0.0000e+00 - val_loss: 1542.0380 - val_mae: 35.8363 - val_acc: 0.0000e+00\n",
            "Epoch 6/100\n",
            "17/17 [==============================] - 0s 4ms/step - loss: 1313.1399 - mae: 32.4662 - acc: 0.0000e+00 - val_loss: 1512.4554 - val_mae: 35.4326 - val_acc: 0.0000e+00\n",
            "Epoch 7/100\n",
            "17/17 [==============================] - 0s 4ms/step - loss: 1397.1707 - mae: 33.5845 - acc: 0.0000e+00 - val_loss: 1481.1973 - val_mae: 34.9996 - val_acc: 0.0000e+00\n",
            "Epoch 8/100\n",
            "17/17 [==============================] - 0s 4ms/step - loss: 1355.7368 - mae: 33.1385 - acc: 0.0000e+00 - val_loss: 1443.0220 - val_mae: 34.4686 - val_acc: 0.0000e+00\n",
            "Epoch 9/100\n",
            "17/17 [==============================] - 0s 4ms/step - loss: 1334.8459 - mae: 32.8082 - acc: 0.0000e+00 - val_loss: 1401.5505 - val_mae: 33.8823 - val_acc: 0.0000e+00\n",
            "Epoch 10/100\n",
            "17/17 [==============================] - 0s 4ms/step - loss: 1268.1528 - mae: 31.5512 - acc: 0.0000e+00 - val_loss: 1353.3605 - val_mae: 33.1871 - val_acc: 0.0000e+00\n",
            "Epoch 11/100\n",
            "17/17 [==============================] - 0s 5ms/step - loss: 1152.8454 - mae: 30.2465 - acc: 0.0000e+00 - val_loss: 1297.2156 - val_mae: 32.3663 - val_acc: 0.0000e+00\n",
            "Epoch 12/100\n",
            "17/17 [==============================] - 0s 4ms/step - loss: 1131.0811 - mae: 30.0089 - acc: 0.0000e+00 - val_loss: 1239.8052 - val_mae: 31.5061 - val_acc: 0.0000e+00\n",
            "Epoch 13/100\n",
            "17/17 [==============================] - 0s 4ms/step - loss: 1133.9649 - mae: 29.7647 - acc: 0.0000e+00 - val_loss: 1172.0315 - val_mae: 30.4666 - val_acc: 0.0000e+00\n",
            "Epoch 14/100\n",
            "17/17 [==============================] - 0s 5ms/step - loss: 982.6414 - mae: 27.3572 - acc: 0.0000e+00 - val_loss: 1099.2069 - val_mae: 29.3154 - val_acc: 0.0000e+00\n",
            "Epoch 15/100\n",
            "17/17 [==============================] - 0s 4ms/step - loss: 960.1615 - mae: 26.8682 - acc: 0.0000e+00 - val_loss: 1022.1238 - val_mae: 28.0449 - val_acc: 0.0000e+00\n",
            "Epoch 16/100\n",
            "17/17 [==============================] - 0s 5ms/step - loss: 841.0466 - mae: 25.0273 - acc: 0.0000e+00 - val_loss: 939.3536 - val_mae: 26.6209 - val_acc: 0.0000e+00\n",
            "Epoch 17/100\n",
            "17/17 [==============================] - 0s 4ms/step - loss: 764.6988 - mae: 23.5495 - acc: 0.0000e+00 - val_loss: 854.5650 - val_mae: 25.1113 - val_acc: 0.0000e+00\n",
            "Epoch 18/100\n",
            "17/17 [==============================] - 0s 4ms/step - loss: 637.4798 - mae: 21.2587 - acc: 0.0000e+00 - val_loss: 764.8079 - val_mae: 23.4393 - val_acc: 0.0000e+00\n",
            "Epoch 19/100\n",
            "17/17 [==============================] - 0s 4ms/step - loss: 641.5372 - mae: 20.9032 - acc: 0.0000e+00 - val_loss: 678.0903 - val_mae: 21.7565 - val_acc: 0.0000e+00\n",
            "Epoch 20/100\n",
            "17/17 [==============================] - 0s 5ms/step - loss: 569.2146 - mae: 19.7516 - acc: 0.0000e+00 - val_loss: 592.9617 - val_mae: 20.0349 - val_acc: 0.0000e+00\n",
            "Epoch 21/100\n",
            "17/17 [==============================] - 0s 5ms/step - loss: 472.8850 - mae: 17.6556 - acc: 0.0000e+00 - val_loss: 510.4352 - val_mae: 18.3091 - val_acc: 0.0000e+00\n",
            "Epoch 22/100\n",
            "17/17 [==============================] - 0s 5ms/step - loss: 377.6170 - mae: 15.6159 - acc: 0.0000e+00 - val_loss: 433.4820 - val_mae: 16.7696 - val_acc: 0.0000e+00\n",
            "Epoch 23/100\n",
            "17/17 [==============================] - 0s 4ms/step - loss: 330.8600 - mae: 14.5610 - acc: 0.0000e+00 - val_loss: 370.2589 - val_mae: 15.4649 - val_acc: 0.0000e+00\n",
            "Epoch 24/100\n",
            "17/17 [==============================] - 0s 4ms/step - loss: 268.4815 - mae: 13.0035 - acc: 0.0000e+00 - val_loss: 326.1090 - val_mae: 14.5573 - val_acc: 0.0000e+00\n",
            "Epoch 25/100\n",
            "17/17 [==============================] - 0s 4ms/step - loss: 244.2396 - mae: 12.4363 - acc: 0.0000e+00 - val_loss: 293.7365 - val_mae: 13.9605 - val_acc: 0.0000e+00\n",
            "Epoch 26/100\n",
            "17/17 [==============================] - 0s 4ms/step - loss: 232.9651 - mae: 11.9733 - acc: 0.0000e+00 - val_loss: 277.4382 - val_mae: 13.6423 - val_acc: 0.0000e+00\n",
            "Epoch 27/100\n",
            "17/17 [==============================] - 0s 5ms/step - loss: 233.6394 - mae: 12.1987 - acc: 0.0000e+00 - val_loss: 263.5339 - val_mae: 13.3449 - val_acc: 0.0000e+00\n",
            "Epoch 28/100\n",
            "17/17 [==============================] - 0s 4ms/step - loss: 196.0738 - mae: 11.2403 - acc: 0.0000e+00 - val_loss: 257.2268 - val_mae: 13.1803 - val_acc: 0.0000e+00\n",
            "Epoch 29/100\n",
            "17/17 [==============================] - 0s 4ms/step - loss: 207.5476 - mae: 11.4264 - acc: 0.0000e+00 - val_loss: 251.7129 - val_mae: 13.0362 - val_acc: 0.0000e+00\n",
            "Epoch 30/100\n",
            "17/17 [==============================] - 0s 4ms/step - loss: 214.6642 - mae: 11.8835 - acc: 0.0000e+00 - val_loss: 247.8223 - val_mae: 12.9351 - val_acc: 0.0000e+00\n",
            "Epoch 31/100\n",
            "17/17 [==============================] - 0s 4ms/step - loss: 189.0524 - mae: 11.1503 - acc: 0.0000e+00 - val_loss: 240.4941 - val_mae: 12.7366 - val_acc: 0.0000e+00\n",
            "Epoch 32/100\n",
            "17/17 [==============================] - 0s 4ms/step - loss: 185.9365 - mae: 11.0995 - acc: 0.0000e+00 - val_loss: 238.8093 - val_mae: 12.6978 - val_acc: 0.0000e+00\n",
            "Epoch 33/100\n",
            "17/17 [==============================] - 0s 4ms/step - loss: 191.5621 - mae: 11.2818 - acc: 0.0000e+00 - val_loss: 233.8401 - val_mae: 12.5674 - val_acc: 0.0000e+00\n",
            "Epoch 34/100\n",
            "17/17 [==============================] - 0s 5ms/step - loss: 181.4136 - mae: 11.0453 - acc: 0.0000e+00 - val_loss: 229.1906 - val_mae: 12.4409 - val_acc: 0.0000e+00\n",
            "Epoch 35/100\n",
            "17/17 [==============================] - 0s 4ms/step - loss: 176.3802 - mae: 10.8433 - acc: 0.0000e+00 - val_loss: 226.4551 - val_mae: 12.3683 - val_acc: 0.0000e+00\n",
            "Epoch 36/100\n",
            "17/17 [==============================] - 0s 4ms/step - loss: 175.8292 - mae: 10.6114 - acc: 0.0000e+00 - val_loss: 221.6157 - val_mae: 12.2328 - val_acc: 0.0000e+00\n",
            "Epoch 37/100\n",
            "17/17 [==============================] - 0s 4ms/step - loss: 156.2178 - mae: 9.9451 - acc: 0.0000e+00 - val_loss: 217.6359 - val_mae: 12.1172 - val_acc: 0.0000e+00\n",
            "Epoch 38/100\n",
            "17/17 [==============================] - 0s 4ms/step - loss: 170.2351 - mae: 10.6191 - acc: 0.0000e+00 - val_loss: 215.7217 - val_mae: 12.0652 - val_acc: 0.0000e+00\n",
            "Epoch 39/100\n",
            "17/17 [==============================] - 0s 5ms/step - loss: 171.0888 - mae: 10.3297 - acc: 0.0000e+00 - val_loss: 215.6644 - val_mae: 12.0609 - val_acc: 0.0000e+00\n",
            "Epoch 40/100\n",
            "17/17 [==============================] - 0s 5ms/step - loss: 165.3876 - mae: 10.4659 - acc: 0.0000e+00 - val_loss: 211.8762 - val_mae: 11.9614 - val_acc: 0.0000e+00\n",
            "Epoch 41/100\n",
            "17/17 [==============================] - 0s 4ms/step - loss: 182.7450 - mae: 10.8487 - acc: 0.0000e+00 - val_loss: 207.9676 - val_mae: 11.8524 - val_acc: 0.0000e+00\n",
            "Epoch 42/100\n",
            "17/17 [==============================] - 0s 4ms/step - loss: 168.3377 - mae: 10.3195 - acc: 0.0000e+00 - val_loss: 206.2572 - val_mae: 11.8065 - val_acc: 0.0000e+00\n",
            "Epoch 43/100\n",
            "17/17 [==============================] - 0s 4ms/step - loss: 153.6551 - mae: 9.8504 - acc: 0.0000e+00 - val_loss: 200.9062 - val_mae: 11.6480 - val_acc: 0.0000e+00\n",
            "Epoch 44/100\n",
            "17/17 [==============================] - 0s 4ms/step - loss: 168.1687 - mae: 10.1671 - acc: 0.0000e+00 - val_loss: 198.5127 - val_mae: 11.5786 - val_acc: 0.0000e+00\n",
            "Epoch 45/100\n",
            "17/17 [==============================] - 0s 5ms/step - loss: 156.9220 - mae: 10.1203 - acc: 0.0000e+00 - val_loss: 198.8073 - val_mae: 11.5970 - val_acc: 0.0000e+00\n",
            "Epoch 46/100\n",
            "17/17 [==============================] - 0s 4ms/step - loss: 147.7377 - mae: 9.6396 - acc: 0.0000e+00 - val_loss: 194.0473 - val_mae: 11.4502 - val_acc: 0.0000e+00\n",
            "Epoch 47/100\n",
            "17/17 [==============================] - 0s 5ms/step - loss: 154.1619 - mae: 10.0377 - acc: 0.0000e+00 - val_loss: 191.6163 - val_mae: 11.3789 - val_acc: 0.0000e+00\n",
            "Epoch 48/100\n",
            "17/17 [==============================] - 0s 4ms/step - loss: 146.3872 - mae: 9.6917 - acc: 0.0000e+00 - val_loss: 188.8640 - val_mae: 11.2949 - val_acc: 0.0000e+00\n",
            "Epoch 49/100\n",
            "17/17 [==============================] - 0s 4ms/step - loss: 144.6650 - mae: 9.5895 - acc: 0.0000e+00 - val_loss: 186.9200 - val_mae: 11.2421 - val_acc: 0.0000e+00\n",
            "Epoch 50/100\n",
            "17/17 [==============================] - 0s 4ms/step - loss: 147.7643 - mae: 9.6294 - acc: 0.0000e+00 - val_loss: 187.1575 - val_mae: 11.2545 - val_acc: 0.0000e+00\n",
            "Epoch 51/100\n",
            "17/17 [==============================] - 0s 6ms/step - loss: 155.5613 - mae: 9.6624 - acc: 0.0000e+00 - val_loss: 186.7133 - val_mae: 11.2421 - val_acc: 0.0000e+00\n",
            "Epoch 52/100\n",
            "17/17 [==============================] - 0s 4ms/step - loss: 140.0817 - mae: 9.5801 - acc: 0.0000e+00 - val_loss: 183.5717 - val_mae: 11.1482 - val_acc: 0.0000e+00\n",
            "Epoch 53/100\n",
            "17/17 [==============================] - 0s 4ms/step - loss: 138.1398 - mae: 9.5586 - acc: 0.0000e+00 - val_loss: 184.5773 - val_mae: 11.1810 - val_acc: 0.0000e+00\n",
            "Epoch 54/100\n",
            "17/17 [==============================] - 0s 4ms/step - loss: 145.6004 - mae: 9.6617 - acc: 0.0000e+00 - val_loss: 182.4249 - val_mae: 11.1145 - val_acc: 0.0000e+00\n",
            "Epoch 55/100\n",
            "17/17 [==============================] - 0s 4ms/step - loss: 145.3681 - mae: 9.5962 - acc: 0.0000e+00 - val_loss: 179.6881 - val_mae: 11.0315 - val_acc: 0.0000e+00\n",
            "Epoch 56/100\n",
            "17/17 [==============================] - 0s 4ms/step - loss: 139.2820 - mae: 9.3659 - acc: 0.0000e+00 - val_loss: 176.7091 - val_mae: 10.9377 - val_acc: 0.0000e+00\n",
            "Epoch 57/100\n",
            "17/17 [==============================] - 0s 4ms/step - loss: 138.8773 - mae: 9.4430 - acc: 0.0000e+00 - val_loss: 176.3350 - val_mae: 10.9208 - val_acc: 0.0000e+00\n",
            "Epoch 58/100\n",
            "17/17 [==============================] - 0s 4ms/step - loss: 140.4370 - mae: 9.5886 - acc: 0.0000e+00 - val_loss: 174.9593 - val_mae: 10.8716 - val_acc: 0.0000e+00\n",
            "Epoch 59/100\n",
            "17/17 [==============================] - 0s 4ms/step - loss: 135.5074 - mae: 9.2841 - acc: 0.0000e+00 - val_loss: 169.9391 - val_mae: 10.7188 - val_acc: 0.0000e+00\n",
            "Epoch 60/100\n",
            "17/17 [==============================] - 0s 4ms/step - loss: 120.2776 - mae: 8.7644 - acc: 0.0000e+00 - val_loss: 167.8341 - val_mae: 10.6469 - val_acc: 0.0000e+00\n",
            "Epoch 61/100\n",
            "17/17 [==============================] - 0s 4ms/step - loss: 137.6765 - mae: 9.4847 - acc: 0.0000e+00 - val_loss: 166.8153 - val_mae: 10.6178 - val_acc: 0.0000e+00\n",
            "Epoch 62/100\n",
            "17/17 [==============================] - 0s 4ms/step - loss: 136.6786 - mae: 9.3326 - acc: 0.0000e+00 - val_loss: 167.5404 - val_mae: 10.6422 - val_acc: 0.0000e+00\n",
            "Epoch 63/100\n",
            "17/17 [==============================] - 0s 4ms/step - loss: 128.1688 - mae: 8.9403 - acc: 0.0000e+00 - val_loss: 168.5451 - val_mae: 10.6814 - val_acc: 0.0000e+00\n",
            "Epoch 64/100\n",
            "17/17 [==============================] - 0s 5ms/step - loss: 132.2106 - mae: 9.4033 - acc: 0.0000e+00 - val_loss: 166.3343 - val_mae: 10.6085 - val_acc: 0.0000e+00\n",
            "Epoch 65/100\n",
            "17/17 [==============================] - 0s 4ms/step - loss: 120.9733 - mae: 8.7325 - acc: 0.0000e+00 - val_loss: 164.5856 - val_mae: 10.5442 - val_acc: 0.0000e+00\n",
            "Epoch 66/100\n",
            "17/17 [==============================] - 0s 5ms/step - loss: 142.2007 - mae: 9.6067 - acc: 0.0000e+00 - val_loss: 162.2155 - val_mae: 10.4709 - val_acc: 0.0000e+00\n",
            "Epoch 67/100\n",
            "17/17 [==============================] - 0s 5ms/step - loss: 125.0571 - mae: 8.8836 - acc: 0.0000e+00 - val_loss: 161.4754 - val_mae: 10.4453 - val_acc: 0.0000e+00\n",
            "Epoch 68/100\n",
            "17/17 [==============================] - 0s 4ms/step - loss: 127.0075 - mae: 9.1922 - acc: 0.0000e+00 - val_loss: 159.0717 - val_mae: 10.3606 - val_acc: 0.0000e+00\n",
            "Epoch 69/100\n",
            "17/17 [==============================] - 0s 4ms/step - loss: 122.9660 - mae: 8.8865 - acc: 0.0000e+00 - val_loss: 158.6088 - val_mae: 10.3503 - val_acc: 0.0000e+00\n",
            "Epoch 70/100\n",
            "17/17 [==============================] - 0s 4ms/step - loss: 131.5559 - mae: 9.2575 - acc: 0.0000e+00 - val_loss: 158.3874 - val_mae: 10.3439 - val_acc: 0.0000e+00\n",
            "Epoch 71/100\n",
            "17/17 [==============================] - 0s 5ms/step - loss: 119.4380 - mae: 8.7619 - acc: 0.0000e+00 - val_loss: 156.4332 - val_mae: 10.2782 - val_acc: 0.0000e+00\n",
            "Epoch 72/100\n",
            "17/17 [==============================] - 0s 5ms/step - loss: 127.0647 - mae: 9.2176 - acc: 0.0000e+00 - val_loss: 157.7308 - val_mae: 10.3200 - val_acc: 0.0000e+00\n",
            "Epoch 73/100\n",
            "17/17 [==============================] - 0s 4ms/step - loss: 114.3753 - mae: 8.5776 - acc: 0.0000e+00 - val_loss: 153.3232 - val_mae: 10.1722 - val_acc: 0.0000e+00\n",
            "Epoch 74/100\n",
            "17/17 [==============================] - 0s 5ms/step - loss: 125.7108 - mae: 8.9577 - acc: 0.0000e+00 - val_loss: 152.9028 - val_mae: 10.1605 - val_acc: 0.0000e+00\n",
            "Epoch 75/100\n",
            "17/17 [==============================] - 0s 4ms/step - loss: 122.0063 - mae: 8.9392 - acc: 0.0000e+00 - val_loss: 156.3215 - val_mae: 10.2755 - val_acc: 0.0000e+00\n",
            "Epoch 76/100\n",
            "17/17 [==============================] - 0s 5ms/step - loss: 115.5224 - mae: 8.6719 - acc: 0.0000e+00 - val_loss: 152.1224 - val_mae: 10.1321 - val_acc: 0.0000e+00\n",
            "Epoch 77/100\n",
            "17/17 [==============================] - 0s 4ms/step - loss: 125.0517 - mae: 9.0524 - acc: 0.0000e+00 - val_loss: 153.0427 - val_mae: 10.1663 - val_acc: 0.0000e+00\n",
            "Epoch 78/100\n",
            "17/17 [==============================] - 0s 4ms/step - loss: 115.4741 - mae: 8.7102 - acc: 0.0000e+00 - val_loss: 148.9078 - val_mae: 10.0136 - val_acc: 0.0000e+00\n",
            "Epoch 79/100\n",
            "17/17 [==============================] - 0s 5ms/step - loss: 116.4232 - mae: 8.6975 - acc: 0.0000e+00 - val_loss: 148.7829 - val_mae: 10.0130 - val_acc: 0.0000e+00\n",
            "Epoch 80/100\n",
            "17/17 [==============================] - 0s 4ms/step - loss: 109.7754 - mae: 8.5417 - acc: 0.0000e+00 - val_loss: 151.0738 - val_mae: 10.0980 - val_acc: 0.0000e+00\n",
            "Epoch 81/100\n",
            "17/17 [==============================] - 0s 5ms/step - loss: 115.6657 - mae: 8.6024 - acc: 0.0000e+00 - val_loss: 149.9670 - val_mae: 10.0580 - val_acc: 0.0000e+00\n",
            "Epoch 82/100\n",
            "17/17 [==============================] - 0s 4ms/step - loss: 114.2678 - mae: 8.6282 - acc: 0.0000e+00 - val_loss: 147.1101 - val_mae: 9.9528 - val_acc: 0.0000e+00\n",
            "Epoch 83/100\n",
            "17/17 [==============================] - 0s 5ms/step - loss: 104.7284 - mae: 8.2402 - acc: 0.0000e+00 - val_loss: 150.5463 - val_mae: 10.0841 - val_acc: 0.0000e+00\n",
            "Epoch 84/100\n",
            "17/17 [==============================] - 0s 5ms/step - loss: 112.0711 - mae: 8.5929 - acc: 0.0000e+00 - val_loss: 144.3322 - val_mae: 9.8523 - val_acc: 0.0000e+00\n",
            "Epoch 85/100\n",
            "17/17 [==============================] - 0s 4ms/step - loss: 113.8885 - mae: 8.5743 - acc: 0.0000e+00 - val_loss: 146.0105 - val_mae: 9.9286 - val_acc: 0.0000e+00\n",
            "Epoch 86/100\n",
            "17/17 [==============================] - 0s 4ms/step - loss: 106.6742 - mae: 8.2973 - acc: 0.0000e+00 - val_loss: 145.3077 - val_mae: 9.9013 - val_acc: 0.0000e+00\n",
            "Epoch 87/100\n",
            "17/17 [==============================] - 0s 4ms/step - loss: 118.1038 - mae: 8.5080 - acc: 0.0000e+00 - val_loss: 144.4424 - val_mae: 9.8727 - val_acc: 0.0000e+00\n",
            "Epoch 88/100\n",
            "17/17 [==============================] - 0s 4ms/step - loss: 120.2002 - mae: 8.7790 - acc: 0.0000e+00 - val_loss: 142.0953 - val_mae: 9.7757 - val_acc: 0.0000e+00\n",
            "Epoch 89/100\n",
            "17/17 [==============================] - 0s 5ms/step - loss: 116.8597 - mae: 8.6740 - acc: 0.0000e+00 - val_loss: 141.7143 - val_mae: 9.7621 - val_acc: 0.0000e+00\n",
            "Epoch 90/100\n",
            "17/17 [==============================] - 0s 5ms/step - loss: 114.7879 - mae: 8.6674 - acc: 0.0000e+00 - val_loss: 141.0490 - val_mae: 9.7370 - val_acc: 0.0000e+00\n",
            "Epoch 91/100\n",
            "17/17 [==============================] - 0s 5ms/step - loss: 107.7825 - mae: 8.2189 - acc: 0.0000e+00 - val_loss: 139.5026 - val_mae: 9.6732 - val_acc: 0.0000e+00\n",
            "Epoch 92/100\n",
            "17/17 [==============================] - 0s 4ms/step - loss: 114.5684 - mae: 8.5860 - acc: 0.0000e+00 - val_loss: 140.8774 - val_mae: 9.7372 - val_acc: 0.0000e+00\n",
            "Epoch 93/100\n",
            "17/17 [==============================] - 0s 4ms/step - loss: 106.0403 - mae: 8.1992 - acc: 0.0000e+00 - val_loss: 139.4474 - val_mae: 9.6711 - val_acc: 0.0000e+00\n",
            "Epoch 94/100\n",
            "17/17 [==============================] - 0s 4ms/step - loss: 105.7102 - mae: 8.3391 - acc: 0.0000e+00 - val_loss: 138.7969 - val_mae: 9.6442 - val_acc: 0.0000e+00\n",
            "Epoch 95/100\n",
            "17/17 [==============================] - 0s 4ms/step - loss: 108.1869 - mae: 8.2916 - acc: 0.0000e+00 - val_loss: 139.1125 - val_mae: 9.6592 - val_acc: 0.0000e+00\n",
            "Epoch 96/100\n",
            "17/17 [==============================] - 0s 5ms/step - loss: 103.0232 - mae: 8.1644 - acc: 0.0000e+00 - val_loss: 136.6895 - val_mae: 9.5576 - val_acc: 0.0000e+00\n",
            "Epoch 97/100\n",
            "17/17 [==============================] - 0s 4ms/step - loss: 99.6707 - mae: 8.0177 - acc: 0.0000e+00 - val_loss: 136.3388 - val_mae: 9.5525 - val_acc: 0.0000e+00\n",
            "Epoch 98/100\n",
            "17/17 [==============================] - 0s 5ms/step - loss: 98.3209 - mae: 7.9618 - acc: 0.0000e+00 - val_loss: 136.1636 - val_mae: 9.5432 - val_acc: 0.0000e+00\n",
            "Epoch 99/100\n",
            "17/17 [==============================] - 0s 4ms/step - loss: 102.7449 - mae: 8.1550 - acc: 0.0000e+00 - val_loss: 140.4596 - val_mae: 9.7050 - val_acc: 0.0000e+00\n",
            "Epoch 100/100\n",
            "17/17 [==============================] - 0s 4ms/step - loss: 103.2705 - mae: 8.1728 - acc: 0.0000e+00 - val_loss: 136.1252 - val_mae: 9.5502 - val_acc: 0.0000e+00\n"
          ],
          "name": "stdout"
        }
      ]
    },
    {
      "cell_type": "code",
      "metadata": {
        "colab": {
          "base_uri": "https://localhost:8080/",
          "height": 295
        },
        "id": "vuOpvLUl95BN",
        "outputId": "44d1005b-21b9-4140-cf6f-a720c6e18644"
      },
      "source": [
        "loss = history.history['loss']\n",
        "val_loss = history.history['val_loss']\n",
        "\n",
        "epochs = range(1, len(loss) + 1)\n",
        "plt.plot(epochs, loss, 'bo', label='Training loss')\n",
        "plt.plot(epochs, val_loss, 'b', label='Validation loss')\n",
        "plt.title('Training and validation loss')\n",
        "plt.xlabel('Epochs')\n",
        "plt.ylabel('Loss')\n",
        "plt.legend()\n",
        "plt.show()\n"
      ],
      "execution_count": null,
      "outputs": [
        {
          "output_type": "display_data",
          "data": {
            "image/png": "[encoded data removed]",
            "text/plain": [
              "<Figure size 432x288 with 1 Axes>"
            ]
          },
          "metadata": {
            "tags": [],
            "needs_background": "light"
          }
        }
      ]
    },
    {
      "cell_type": "code",
      "metadata": {
        "id": "0_uXJsFMAo2w",
        "colab": {
          "base_uri": "https://localhost:8080/"
        },
        "outputId": "52275a96-ae80-4bb5-cd2b-351ae87a6e54"
      },
      "source": [
        "result = network.evaluate(train_data, train_labels)"
      ],
      "execution_count": null,
      "outputs": [
        {
          "output_type": "stream",
          "text": [
            "17/17 [==============================] - 0s 1ms/step - loss: 105.5211 - mae: 8.2433 - acc: 0.0000e+00\n"
          ],
          "name": "stdout"
        }
      ]
    },
    {
      "cell_type": "code",
      "metadata": {
        "colab": {
          "base_uri": "https://localhost:8080/"
        },
        "id": "bdW9t-X0hb0-",
        "outputId": "9d9213fa-3b56-4a3c-92f5-05b6bc0a1f68"
      },
      "source": [
        "result"
      ],
      "execution_count": null,
      "outputs": [
        {
          "output_type": "execute_result",
          "data": {
            "text/plain": [
              "[105.52110290527344, 8.24329948425293, 0.0]"
            ]
          },
          "metadata": {
            "tags": []
          },
          "execution_count": 90
        }
      ]
    },
    {
      "cell_type": "code",
      "metadata": {
        "id": "9-m6AQ_rlGLZ"
      },
      "source": [
        ""
      ],
      "execution_count": null,
      "outputs": []
    }
  ]
}